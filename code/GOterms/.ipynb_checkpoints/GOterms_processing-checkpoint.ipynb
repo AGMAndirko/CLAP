{
 "cells": [
  {
   "cell_type": "markdown",
   "metadata": {},
   "source": [
    "# GO Terms .05"
   ]
  },
  {
   "cell_type": "code",
   "execution_count": 1,
   "metadata": {},
   "outputs": [],
   "source": [
    "import pandas as pd \n",
    "import os \n",
    "import matplotlib.pyplot as plt \n",
    "import numpy as np "
   ]
  },
  {
   "cell_type": "code",
   "execution_count": 2,
   "metadata": {},
   "outputs": [],
   "source": [
    "first05 = pd.read_csv(\"files_005/hf_COMBINED_0kya_300kya_only_rsIDs_RESULTS_enrich005.csv\")\n",
    "second05 = pd.read_csv(\"files_005/hf_COMBINED_300_500kya_only_rsIDs_RESULTS_enrich005.csv\")\n",
    "third05 = pd.read_csv(\"files_005/hf_COMBINED_500kya_1mya_only_rsIDs_RESULTS_enrich005.csv\")"
   ]
  },
  {
   "cell_type": "markdown",
   "metadata": {},
   "source": [
    "## 1) First period 0-300k vs Late period 300k-1m"
   ]
  },
  {
   "cell_type": "code",
   "execution_count": 3,
   "metadata": {},
   "outputs": [],
   "source": [
    "late = second05.append(third05, ignore_index=True)"
   ]
  },
  {
   "cell_type": "code",
   "execution_count": 4,
   "metadata": {},
   "outputs": [
    {
     "data": {
      "text/plain": [
       "63"
      ]
     },
     "execution_count": 4,
     "metadata": {},
     "output_type": "execute_result"
    }
   ],
   "source": [
    "uniq_first = first05[-first05['term_name'].isin(late['term_name'])]\n",
    "len(uniq_first)"
   ]
  },
  {
   "cell_type": "code",
   "execution_count": 5,
   "metadata": {},
   "outputs": [
    {
     "data": {
      "text/plain": [
       "59"
      ]
     },
     "execution_count": 5,
     "metadata": {},
     "output_type": "execute_result"
    }
   ],
   "source": [
    "len(uniq_first['term_name'].unique())"
   ]
  },
  {
   "cell_type": "code",
   "execution_count": null,
   "metadata": {},
   "outputs": [],
   "source": [
    "uniq_first = pd.DataFrame(uniq_first)\n",
    "uniq_first.head(2)"
   ]
  },
  {
   "cell_type": "code",
   "execution_count": null,
   "metadata": {},
   "outputs": [],
   "source": [
    "uniq_first.to_csv(\"GOterms_uniqEARLYvs_late300k_1m_g005.csv\", header=None, index=False, sep=\",\")"
   ]
  },
  {
   "cell_type": "markdown",
   "metadata": {},
   "source": [
    "## 1.1) Late period vs Early"
   ]
  },
  {
   "cell_type": "code",
   "execution_count": 6,
   "metadata": {},
   "outputs": [],
   "source": [
    "uniq_late = late[-late['term_name'].isin(first05['term_name'])]"
   ]
  },
  {
   "cell_type": "code",
   "execution_count": 7,
   "metadata": {},
   "outputs": [
    {
     "data": {
      "text/plain": [
       "794"
      ]
     },
     "execution_count": 7,
     "metadata": {},
     "output_type": "execute_result"
    }
   ],
   "source": [
    "len(uniq_late)"
   ]
  },
  {
   "cell_type": "code",
   "execution_count": null,
   "metadata": {},
   "outputs": [],
   "source": [
    "uniq_late = pd.DataFrame(uniq_late)\n",
    "uniq_late.to_csv(\"GOterms_uniqLATEvs_early_g005.csv\", header=None, index=False, sep=\",\")"
   ]
  },
  {
   "cell_type": "markdown",
   "metadata": {},
   "source": [
    "## 2) Unique across periods"
   ]
  },
  {
   "cell_type": "markdown",
   "metadata": {},
   "source": [
    "### 2.1.) First period"
   ]
  },
  {
   "cell_type": "code",
   "execution_count": 25,
   "metadata": {},
   "outputs": [
    {
     "data": {
      "text/plain": [
       "59"
      ]
     },
     "execution_count": 25,
     "metadata": {},
     "output_type": "execute_result"
    }
   ],
   "source": [
    "u_first = first05[-first05['term_name'].isin(second05['term_name'])]\n",
    "u_first = u_first[-u_first['term_name'].isin(third05['term_name'])]\n",
    "len(u_first['term_name'].unique())"
   ]
  },
  {
   "cell_type": "code",
   "execution_count": null,
   "metadata": {},
   "outputs": [],
   "source": [
    "u_first.to_csv(\"EXCterms0_300_g005.csv\", header=None, index=False, sep=\",\")"
   ]
  },
  {
   "cell_type": "code",
   "execution_count": 26,
   "metadata": {},
   "outputs": [
    {
     "data": {
      "text/plain": [
       "65"
      ]
     },
     "execution_count": 26,
     "metadata": {},
     "output_type": "execute_result"
    }
   ],
   "source": [
    "u_second = second05[-second05['term_name'].isin(first05['term_name'])]\n",
    "u_second = u_second[-u_second['term_name'].isin(third05['term_name'])]\n",
    "len(u_second['term_name'].unique())"
   ]
  },
  {
   "cell_type": "code",
   "execution_count": null,
   "metadata": {},
   "outputs": [],
   "source": [
    "u_second.to_csv(\"EXCterms300_500_g005.csv\", header=None, index=False, sep=\",\")"
   ]
  },
  {
   "cell_type": "code",
   "execution_count": null,
   "metadata": {},
   "outputs": [],
   "source": [
    "u_third = third05[-third05['term_name'].isin(first05['term_name'])]\n",
    "u_third = u_third[-u_third['term_name'].isin(second05['term_name'])]\n",
    "len(u_third['term_name'].unique())"
   ]
  },
  {
   "cell_type": "code",
   "execution_count": null,
   "metadata": {},
   "outputs": [],
   "source": [
    "u_third.to_csv(\"EXCterms500_1m_g005.csv\", header=None, index=False, sep=\",\")"
   ]
  },
  {
   "cell_type": "markdown",
   "metadata": {},
   "source": [
    "## Across periods comparisons"
   ]
  },
  {
   "cell_type": "markdown",
   "metadata": {},
   "source": [
    "### Common to all periods"
   ]
  },
  {
   "cell_type": "code",
   "execution_count": 22,
   "metadata": {},
   "outputs": [
    {
     "name": "stderr",
     "output_type": "stream",
     "text": [
      "/home/juanandres/anaconda3/lib/python3.7/site-packages/ipykernel_launcher.py:3: SettingWithCopyWarning: \n",
      "A value is trying to be set on a copy of a slice from a DataFrame\n",
      "\n",
      "See the caveats in the documentation: https://pandas.pydata.org/pandas-docs/stable/user_guide/indexing.html#returning-a-view-versus-a-copy\n",
      "  This is separate from the ipykernel package so we can avoid doing imports until\n"
     ]
    },
    {
     "data": {
      "text/plain": [
       "325"
      ]
     },
     "execution_count": 22,
     "metadata": {},
     "output_type": "execute_result"
    }
   ],
   "source": [
    "c1 = first05[first05['term_name'].isin(second05['term_name'])]\n",
    "abc = c1[c1['term_name'].isin(third05['term_name'])]\n",
    "abc.drop_duplicates(inplace=True)\n",
    "abc_terms = abc['term_name']\n",
    "len(abc_terms.unique())"
   ]
  },
  {
   "cell_type": "code",
   "execution_count": null,
   "metadata": {},
   "outputs": [],
   "source": [
    "abc.to_csv(\"commonterms_across_all_blocks_g005.csv\", header=None, index=False, sep=\",\")"
   ]
  },
  {
   "cell_type": "markdown",
   "metadata": {},
   "source": [
    "### Pairwise comparison"
   ]
  },
  {
   "cell_type": "markdown",
   "metadata": {},
   "source": [
    "### 1) Common 0_300 & 300_500k"
   ]
  },
  {
   "cell_type": "code",
   "execution_count": 29,
   "metadata": {},
   "outputs": [
    {
     "name": "stderr",
     "output_type": "stream",
     "text": [
      "/home/juanandres/anaconda3/lib/python3.7/site-packages/ipykernel_launcher.py:2: SettingWithCopyWarning: \n",
      "A value is trying to be set on a copy of a slice from a DataFrame\n",
      "\n",
      "See the caveats in the documentation: https://pandas.pydata.org/pandas-docs/stable/user_guide/indexing.html#returning-a-view-versus-a-copy\n",
      "  \n"
     ]
    }
   ],
   "source": [
    "ab = first05[first05['term_name'].isin(second05['term_name'])]\n",
    "ab.drop_duplicates(inplace=True)\n",
    "ab_terms = ab['term_name']\n",
    "ab_terms.to_csv(\"files_005/commonterms_0_300_300_500_g005.csv\", header=None, index=False, sep=\",\")"
   ]
  },
  {
   "cell_type": "code",
   "execution_count": 30,
   "metadata": {},
   "outputs": [
    {
     "data": {
      "text/plain": [
       "331"
      ]
     },
     "execution_count": 30,
     "metadata": {},
     "output_type": "execute_result"
    }
   ],
   "source": [
    "len(ab_terms)"
   ]
  },
  {
   "cell_type": "markdown",
   "metadata": {},
   "source": [
    "### 2) Common 300_500 & 500_1m"
   ]
  },
  {
   "cell_type": "code",
   "execution_count": null,
   "metadata": {},
   "outputs": [],
   "source": [
    "bc = second05[second05['term_name'].isin(third05['term_name'])]\n",
    "bc.drop_duplicates(inplace=True)\n",
    "bc_terms = bc['term_name']\n",
    "bc_terms.to_csv(\"commonterms_300_500_500_1_g005.csv\", header=None, index=False, sep=\",\")"
   ]
  },
  {
   "cell_type": "markdown",
   "metadata": {},
   "source": [
    "### 3) Common 0_300 & 500_1m"
   ]
  },
  {
   "cell_type": "code",
   "execution_count": null,
   "metadata": {},
   "outputs": [],
   "source": [
    "ac = first05[first05['term_name'].isin(third05['term_name'])]\n",
    "ac.drop_duplicates(inplace=True)\n",
    "ac_terms = ac['term_name']\n",
    "ac.to_csv(\"commonterms_0_300_500_1_g005.csv\", header=None, index=False, sep=\",\")"
   ]
  },
  {
   "cell_type": "markdown",
   "metadata": {},
   "source": [
    "### PLOT .05"
   ]
  },
  {
   "cell_type": "markdown",
   "metadata": {},
   "source": [
    "#### plotEXCterms_GO:BP_CC_MF"
   ]
  },
  {
   "cell_type": "code",
   "execution_count": null,
   "metadata": {},
   "outputs": [],
   "source": [
    "e_z1 = pd.read_csv(\"exclusive/EXCterms0_300_g005.csv\", header=None, sep=\",\")\n",
    "e_t1 = pd.read_csv(\"exclusive/EXCterms300_500_g005.csv\", header=None, sep=\",\")\n",
    "e_f1 = pd.read_csv(\"exclusive/EXCterms500_1m_g005.csv\", header=None, sep=\",\")"
   ]
  },
  {
   "cell_type": "code",
   "execution_count": null,
   "metadata": {},
   "outputs": [],
   "source": [
    "e_z1[0] = \"0-300k\"\n",
    "e_t1[0] = \"300k-500k\"\n",
    "e_f1[0] = \"500k-1m\"\n",
    "e_z1 = e_z1[e_z1[9] != \"KEGG\"]\n",
    "e_z1 = e_z1[e_z1[9] != \"MIRNA\"]\n",
    "e_z1 = e_z1[e_z1[9] != \"REAC\"]\n",
    "e_z1 = e_z1[e_z1[9] != \"TF\"]\n",
    "e_z1 = e_z1[e_z1[9] != \"WP\"]\n",
    "e_z1 = e_z1[e_z1[9] != \"HP\"]\n",
    "e_z1 = e_z1[e_z1[9] != \"HPA\"]\n",
    "e_t1 = e_t1[e_t1[9] != \"KEGG\"]\n",
    "e_t1 = e_t1[e_t1[9] != \"MIRNA\"]\n",
    "e_t1 = e_t1[e_t1[9] != \"REAC\"]\n",
    "e_t1 = e_t1[e_t1[9] != \"TF\"]\n",
    "e_t1 = e_t1[e_t1[9] != \"WP\"]\n",
    "e_t1 = e_t1[e_t1[9] != \"HP\"]\n",
    "e_t1 = e_t1[e_t1[9] != \"HPA\"]\n",
    "e_f1 = e_f1[e_f1[9] != \"KEGG\"]\n",
    "e_f1 = e_f1[e_f1[9] != \"MIRNA\"]\n",
    "e_f1 = e_f1[e_f1[9] != \"REAC\"]\n",
    "e_f1 = e_f1[e_f1[9] != \"TF\"]\n",
    "e_f1 = e_f1[e_f1[9] != \"WP\"]\n",
    "e_f1 = e_f1[e_f1[9] != \"HP\"]\n",
    "e_f1 = e_f1[e_f1[9] != \"HPA\"]\n",
    "#Append:\n",
    "tmp2 = e_z1.append(e_t1)\n",
    "tmp3 = tmp2.append(e_f1)\n",
    "#Save\n",
    "tmp3.to_csv(\"plotEXCterms_g005_BP_CC_MF.csv\", header=None, index=False, sep=\",\")"
   ]
  },
  {
   "cell_type": "markdown",
   "metadata": {},
   "source": [
    "##### To select top 3:"
   ]
  },
  {
   "cell_type": "code",
   "execution_count": null,
   "metadata": {},
   "outputs": [],
   "source": [
    "tmp0 = e_z1.groupby([9]).nth((0,1,2))\n",
    "tmp1 = e_t1.groupby([9]).nth((0,1,2))\n",
    "tmp2 = e_f1.groupby([9]).nth((0,1,2))"
   ]
  },
  {
   "cell_type": "code",
   "execution_count": null,
   "metadata": {},
   "outputs": [],
   "source": [
    "tmp = tmp0.append(tmp1)"
   ]
  },
  {
   "cell_type": "code",
   "execution_count": null,
   "metadata": {},
   "outputs": [],
   "source": [
    "tmp = tmp.append(tmp2)"
   ]
  },
  {
   "cell_type": "code",
   "execution_count": null,
   "metadata": {},
   "outputs": [],
   "source": [
    "#tmp.head(20)"
   ]
  },
  {
   "cell_type": "code",
   "execution_count": null,
   "metadata": {},
   "outputs": [],
   "source": [
    "tmp.to_csv(\"plots/plotEXCterms_top3_g005_BP_CC_MF.csv\", header=None, index=False, sep=\",\")"
   ]
  },
  {
   "cell_type": "markdown",
   "metadata": {},
   "source": [
    "#### plotEXCterms_KEGG_WP_HP_REAC_HPA\n"
   ]
  },
  {
   "cell_type": "code",
   "execution_count": null,
   "metadata": {},
   "outputs": [],
   "source": [
    "e_z1 = pd.read_csv(\"exclusive/EXCterms0_300_g005.csv\", header=None, sep=\",\")\n",
    "e_t1 = pd.read_csv(\"exclusive/EXCterms300_500_g005.csv\", header=None, sep=\",\")\n",
    "e_f1 = pd.read_csv(\"exclusive/EXCterms500_1m_g005.csv\", header=None, sep=\",\")"
   ]
  },
  {
   "cell_type": "code",
   "execution_count": null,
   "metadata": {},
   "outputs": [],
   "source": [
    "e_z1[0] = \"0-300k\"\n",
    "e_t1[0] = \"300k-500k\"\n",
    "e_f1[0] = \"500k-1m\"\n",
    "e_z1 = e_z1[e_z1[9] != \"MIRNA\"]\n",
    "e_z1 = e_z1[e_z1[9] != \"TF\"]\n",
    "e_z1 = e_z1[e_z1[9] != \"GO:BP\"]\n",
    "e_z1 = e_z1[e_z1[9] != \"GO:CC\"]\n",
    "e_z1 = e_z1[e_z1[9] != \"GO:MF\"]\n",
    "e_t1 = e_t1[e_t1[9] != \"MIRNA\"]\n",
    "e_t1 = e_t1[e_t1[9] != \"TF\"]\n",
    "e_t1 = e_t1[e_t1[9] != \"GO:BP\"]\n",
    "e_t1 = e_t1[e_t1[9] != \"GO:CC\"]\n",
    "e_t1 = e_t1[e_t1[9] != \"GO:MF\"]\n",
    "e_f1 = e_f1[e_f1[9] != \"MIRNA\"]\n",
    "e_f1 = e_f1[e_f1[9] != \"TF\"]\n",
    "e_f1 = e_f1[e_f1[9] != \"GO:BP\"]\n",
    "e_f1 = e_f1[e_f1[9] != \"GO:CC\"]\n",
    "e_f1 = e_f1[e_f1[9] != \"GO:MF\"]\n",
    "#Append:\n",
    "tmp = e_z1.append(e_t1)\n",
    "tmp1 = tmp.append(e_f1)\n",
    "tmp1.to_csv(\"plotEXCterms_g005_KEEG_REAC_WP.csv\", header=None, index=False, sep=\",\")"
   ]
  },
  {
   "cell_type": "markdown",
   "metadata": {},
   "source": [
    "# GO Terms .01"
   ]
  },
  {
   "cell_type": "code",
   "execution_count": null,
   "metadata": {},
   "outputs": [],
   "source": [
    "cd "
   ]
  },
  {
   "cell_type": "code",
   "execution_count": null,
   "metadata": {},
   "outputs": [],
   "source": [
    "first01 = pd.read_csv(\"files_001/hf_COMBINED_0kya_300kya_only_rsIDs_RESULTS_enrich001.csv\")\n",
    "second01 = pd.read_csv(\"files_001/hf_COMBINED_300_500kya_only_rsIDs_RESULTS_enrich001.csv\")\n",
    "third01 = pd.read_csv(\"files_001/hf_COMBINED_500kya_1mya_only_rsIDs_RESULTS_enrich001.csv\")"
   ]
  },
  {
   "cell_type": "markdown",
   "metadata": {},
   "source": [
    "## 1) First period 0-300k vs Late period 300k-1m"
   ]
  },
  {
   "cell_type": "code",
   "execution_count": null,
   "metadata": {},
   "outputs": [],
   "source": [
    "late = second01.append(third01, ignore_index=True)"
   ]
  },
  {
   "cell_type": "code",
   "execution_count": null,
   "metadata": {},
   "outputs": [],
   "source": [
    "late.drop_duplicates(inplace=True)"
   ]
  },
  {
   "cell_type": "code",
   "execution_count": null,
   "metadata": {},
   "outputs": [],
   "source": [
    "uniq_first = first01[-first01['term_name'].isin(late['term_name'])]\n",
    "len(uniq_first)"
   ]
  },
  {
   "cell_type": "code",
   "execution_count": null,
   "metadata": {},
   "outputs": [],
   "source": [
    "uniq_first = pd.DataFrame(uniq_first)\n",
    "uniq_first.head(2)"
   ]
  },
  {
   "cell_type": "code",
   "execution_count": null,
   "metadata": {},
   "outputs": [],
   "source": [
    "uniq_first.to_csv(\"GOterms_uniqEARLYvs_late300k_1m_g001.csv\", header=None, index=False, sep=\",\")"
   ]
  },
  {
   "cell_type": "markdown",
   "metadata": {},
   "source": [
    "## 1.1) Late period vs Early"
   ]
  },
  {
   "cell_type": "code",
   "execution_count": null,
   "metadata": {},
   "outputs": [],
   "source": [
    "uniq_late = late[-late['term_name'].isin(first01['term_name'])]"
   ]
  },
  {
   "cell_type": "code",
   "execution_count": null,
   "metadata": {},
   "outputs": [],
   "source": [
    "len(uniq_late)"
   ]
  },
  {
   "cell_type": "code",
   "execution_count": null,
   "metadata": {},
   "outputs": [],
   "source": [
    "uniq_late = pd.DataFrame(uniq_late)\n",
    "uniq_late.to_csv(\"GOterms_uniqLATEvs_early_g001.csv\", header=None, index=False, sep=\",\")"
   ]
  },
  {
   "cell_type": "markdown",
   "metadata": {},
   "source": [
    "## 2) Unique across periods"
   ]
  },
  {
   "cell_type": "markdown",
   "metadata": {},
   "source": [
    "### 2.1.) First period"
   ]
  },
  {
   "cell_type": "code",
   "execution_count": null,
   "metadata": {},
   "outputs": [],
   "source": [
    "u_first = first01[-first01['term_name'].isin(second01['term_name'])]\n",
    "u_first = u_first[-u_first['term_name'].isin(third01['term_name'])]\n",
    "len(u_first)"
   ]
  },
  {
   "cell_type": "code",
   "execution_count": null,
   "metadata": {},
   "outputs": [],
   "source": [
    "u_first.to_csv(\"EXCterms0_300_g001.csv\", header=None, index=False, sep=\",\")"
   ]
  },
  {
   "cell_type": "code",
   "execution_count": null,
   "metadata": {},
   "outputs": [],
   "source": [
    "u_second = second01[-second01['term_name'].isin(first01['term_name'])]\n",
    "u_second = u_second[-u_second['term_name'].isin(third01['term_name'])]\n",
    "len(u_second)\n",
    "u_second.to_csv(\"EXCterms300_500_g001.csv\", header=None, index=False, sep=\",\")"
   ]
  },
  {
   "cell_type": "code",
   "execution_count": null,
   "metadata": {},
   "outputs": [],
   "source": [
    "len(u_second)"
   ]
  },
  {
   "cell_type": "code",
   "execution_count": null,
   "metadata": {},
   "outputs": [],
   "source": [
    "u_third = third01[-third01['term_name'].isin(first01['term_name'])]\n",
    "u_third = u_third[-u_third['term_name'].isin(second01['term_name'])]\n"
   ]
  },
  {
   "cell_type": "code",
   "execution_count": null,
   "metadata": {},
   "outputs": [],
   "source": [
    "len(u_third['term_name'].unique())"
   ]
  },
  {
   "cell_type": "code",
   "execution_count": null,
   "metadata": {},
   "outputs": [],
   "source": [
    "u_third.to_csv(\"EXCterms500_1m_g001.csv\", header=None, index=False, sep=\",\")"
   ]
  },
  {
   "cell_type": "markdown",
   "metadata": {},
   "source": [
    "## Across periods comparisons"
   ]
  },
  {
   "cell_type": "markdown",
   "metadata": {},
   "source": [
    "### Common to all periods"
   ]
  },
  {
   "cell_type": "code",
   "execution_count": null,
   "metadata": {},
   "outputs": [],
   "source": [
    "c1 = first01[first01['term_name'].isin(second01['term_name'])]\n",
    "abc = c1[c1['term_name'].isin(third01['term_name'])]\n",
    "abc.drop_duplicates(inplace=True)\n",
    "abc_terms = abc['term_name']\n",
    "len(ab_terms.unique())"
   ]
  },
  {
   "cell_type": "code",
   "execution_count": null,
   "metadata": {},
   "outputs": [],
   "source": [
    "abc.to_csv(\"commonterms_across_all_blocks_g001.csv\", header=None, index=False, sep=\",\")"
   ]
  },
  {
   "cell_type": "markdown",
   "metadata": {},
   "source": [
    "### Pairwise comparison"
   ]
  },
  {
   "cell_type": "markdown",
   "metadata": {},
   "source": [
    "### 1) Common 0_300 & 300_500"
   ]
  },
  {
   "cell_type": "code",
   "execution_count": null,
   "metadata": {},
   "outputs": [],
   "source": [
    "ab = first01[first01['term_name'].isin(second01['term_name'])]\n",
    "ab.drop_duplicates(inplace=True)\n",
    "ab_terms = ab['term_name']\n",
    "ab_terms.to_csv(\"files_001/commonterms_0_300_300_500_g001.csv\", header=None, index=False, sep=\",\")"
   ]
  },
  {
   "cell_type": "code",
   "execution_count": null,
   "metadata": {},
   "outputs": [],
   "source": [
    "len(ab_terms)"
   ]
  },
  {
   "cell_type": "markdown",
   "metadata": {},
   "source": [
    "### 2) Common 300_500 & 500_1m"
   ]
  },
  {
   "cell_type": "code",
   "execution_count": null,
   "metadata": {},
   "outputs": [],
   "source": [
    "bc = second01[second01['term_name'].isin(third01['term_name'])]\n",
    "bc.drop_duplicates(inplace=True)\n",
    "bc_terms = bc['term_name']\n",
    "len(bc_terms.unique())"
   ]
  },
  {
   "cell_type": "code",
   "execution_count": null,
   "metadata": {},
   "outputs": [],
   "source": [
    "bc_terms.to_csv(\"commonterms_300_500_500_1_g001.csv\", header=None, index=False, sep=\",\")"
   ]
  },
  {
   "cell_type": "markdown",
   "metadata": {},
   "source": [
    "### 3) Common 0_300 & 500_1m"
   ]
  },
  {
   "cell_type": "code",
   "execution_count": null,
   "metadata": {},
   "outputs": [],
   "source": [
    "ac = first01[first01['term_name'].isin(third01['term_name'])]\n",
    "ac.drop_duplicates(inplace=True)\n",
    "ac_terms = ac['term_name']\n",
    "ac.to_csv(\"commonterms_0_300_500_1_g001.csv\", header=None, index=False, sep=\",\")"
   ]
  },
  {
   "cell_type": "markdown",
   "metadata": {},
   "source": [
    "### PLOT .01 "
   ]
  },
  {
   "cell_type": "markdown",
   "metadata": {},
   "source": [
    "#### plotEXCterms_KEGG_WP_HP_REAC_HPA\n"
   ]
  },
  {
   "cell_type": "code",
   "execution_count": null,
   "metadata": {},
   "outputs": [],
   "source": [
    "e_z1 = pd.read_csv(\"EXCterms0_300_g001.csv\", header=None, sep=\",\")\n",
    "e_t1 = pd.read_csv(\"EXCterms300_500_g001.csv\", header=None, sep=\",\")\n",
    "e_f1 = pd.read_csv(\"EXCterms500_1m_g001.csv\", header=None, sep=\",\")"
   ]
  },
  {
   "cell_type": "code",
   "execution_count": null,
   "metadata": {},
   "outputs": [],
   "source": [
    "e_f1[9].unique()"
   ]
  },
  {
   "cell_type": "code",
   "execution_count": null,
   "metadata": {},
   "outputs": [],
   "source": [
    "e_z1[0] = \"0-300k\"\n",
    "e_t1[0] = \"300k-500k\"\n",
    "e_f1[0] = \"500k-1m\"\n",
    "e_z1 = e_z1[e_z1[9] != \"MIRNA\"]\n",
    "e_z1 = e_z1[e_z1[9] != \"TF\"]\n",
    "e_z1 = e_z1[e_z1[9] != \"GO:BP\"]\n",
    "e_z1 = e_z1[e_z1[9] != \"GO:CC\"]\n",
    "e_z1 = e_z1[e_z1[9] != \"GO:MF\"]\n",
    "e_t1 = e_t1[e_t1[9] != \"MIRNA\"]\n",
    "e_t1 = e_t1[e_t1[9] != \"TF\"]\n",
    "e_t1 = e_t1[e_t1[9] != \"GO:BP\"]\n",
    "e_t1 = e_t1[e_t1[9] != \"GO:CC\"]\n",
    "e_t1 = e_t1[e_t1[9] != \"GO:MF\"]\n",
    "e_f1 = e_f1[e_f1[9] != \"MIRNA\"]\n",
    "e_f1 = e_f1[e_f1[9] != \"TF\"]\n",
    "e_f1 = e_f1[e_f1[9] != \"GO:BP\"]\n",
    "e_f1 = e_f1[e_f1[9] != \"GO:CC\"]\n",
    "e_f1 = e_f1[e_f1[9] != \"GO:MF\"]\n",
    "#Append:\n",
    "tmp = e_z1.append(e_t1)\n",
    "tmp1 = tmp.append(e_f1)\n",
    "tmp1.to_csv(\"plotEXCterms001_KEEG_REAC_WP.csv\", header=None, index=False, sep=\",\")"
   ]
  },
  {
   "cell_type": "markdown",
   "metadata": {},
   "source": [
    "#### plotEXCterms_GO:BP_CC_MF"
   ]
  },
  {
   "cell_type": "code",
   "execution_count": null,
   "metadata": {},
   "outputs": [],
   "source": [
    "e_z1 = pd.read_csv(\"EXCterms0_300_g001.csv\", header=None, sep=\",\")\n",
    "e_t1 = pd.read_csv(\"EXCterms300_500_g001.csv\", header=None, sep=\",\")\n",
    "e_f1 = pd.read_csv(\"EXCterms500_1m_g001.csv\", header=None, sep=\",\")"
   ]
  },
  {
   "cell_type": "code",
   "execution_count": null,
   "metadata": {},
   "outputs": [],
   "source": [
    "e_z1[0] = \"0-300k\"\n",
    "e_t1[0] = \"300k-500k\"\n",
    "e_f1[0] = \"500k-1m\"\n",
    "e_z1 = e_z1[e_z1[9] != \"KEGG\"]\n",
    "e_z1 = e_z1[e_z1[9] != \"MIRNA\"]\n",
    "e_z1 = e_z1[e_z1[9] != \"REAC\"]\n",
    "e_z1 = e_z1[e_z1[9] != \"TF\"]\n",
    "e_z1 = e_z1[e_z1[9] != \"WP\"]\n",
    "e_z1 = e_z1[e_z1[9] != \"HP\"]\n",
    "e_z1 = e_z1[e_z1[9] != \"HPA\"]\n",
    "e_t1 = e_t1[e_t1[9] != \"KEGG\"]\n",
    "e_t1 = e_t1[e_t1[9] != \"MIRNA\"]\n",
    "e_t1 = e_t1[e_t1[9] != \"REAC\"]\n",
    "e_t1 = e_t1[e_t1[9] != \"TF\"]\n",
    "e_t1 = e_t1[e_t1[9] != \"WP\"]\n",
    "e_t1 = e_t1[e_t1[9] != \"HP\"]\n",
    "e_t1 = e_t1[e_t1[9] != \"HPA\"]\n",
    "e_f1 = e_f1[e_f1[9] != \"KEGG\"]\n",
    "e_f1 = e_f1[e_f1[9] != \"MIRNA\"]\n",
    "e_f1 = e_f1[e_f1[9] != \"REAC\"]\n",
    "e_f1 = e_f1[e_f1[9] != \"TF\"]\n",
    "e_f1 = e_f1[e_f1[9] != \"WP\"]\n",
    "e_f1 = e_f1[e_f1[9] != \"HP\"]\n",
    "e_f1 = e_f1[e_f1[9] != \"HPA\"]\n",
    "#Append:\n",
    "tmp2 = e_z1.append(e_t1)\n",
    "tmp3 = tmp2.append(e_f1)\n",
    "tmp3.to_csv(\"plotEXCterms001_BP_CC_MF.csv\", header=None, index=False, sep=\",\")"
   ]
  },
  {
   "cell_type": "markdown",
   "metadata": {},
   "source": [
    "##### To select top 3:"
   ]
  },
  {
   "cell_type": "code",
   "execution_count": null,
   "metadata": {},
   "outputs": [],
   "source": [
    "tmp0 = e_z1.groupby([9]).nth((0,1,2))\n",
    "tmp1 = e_t1.groupby([9]).nth((0,1,2))\n",
    "tmp2 = e_f1.groupby([9]).nth((0,1,2))"
   ]
  },
  {
   "cell_type": "code",
   "execution_count": null,
   "metadata": {},
   "outputs": [],
   "source": [
    "tmp = tmp0.append(tmp1)"
   ]
  },
  {
   "cell_type": "code",
   "execution_count": null,
   "metadata": {},
   "outputs": [],
   "source": [
    "tmp = tmp.append(tmp2)"
   ]
  },
  {
   "cell_type": "code",
   "execution_count": null,
   "metadata": {},
   "outputs": [],
   "source": [
    "tmp.to_csv(\"plotEXCterms_top3_g001_BP_CC_MF.csv\", header=None, index=False, sep=\",\")"
   ]
  },
  {
   "cell_type": "code",
   "execution_count": null,
   "metadata": {},
   "outputs": [],
   "source": []
  }
 ],
 "metadata": {
  "kernelspec": {
   "display_name": "Python 3",
   "language": "python",
   "name": "python3"
  },
  "language_info": {
   "codemirror_mode": {
    "name": "ipython",
    "version": 3
   },
   "file_extension": ".py",
   "mimetype": "text/x-python",
   "name": "python",
   "nbconvert_exporter": "python",
   "pygments_lexer": "ipython3",
   "version": "3.7.4"
  }
 },
 "nbformat": 4,
 "nbformat_minor": 4
}
