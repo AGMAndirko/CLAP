{
 "cells": [
  {
   "cell_type": "code",
   "execution_count": 8,
   "metadata": {},
   "outputs": [],
   "source": [
    "import pandas as pd\n",
    "import numpy as np\n",
    "from pybedtools import BedTool"
   ]
  },
  {
   "cell_type": "code",
   "execution_count": 12,
   "metadata": {},
   "outputs": [],
   "source": [
    "# coding: utf-8\n",
    "p = pd.read_excel(\"Martin2016_T2.xlsx\")\n",
    "p['Genomic region']\n",
    "hf = BedTool(\"high_freq.bed\")"
   ]
  },
  {
   "cell_type": "code",
   "execution_count": 13,
   "metadata": {},
   "outputs": [
    {
     "data": {
      "text/html": [
       "<div>\n",
       "<style scoped>\n",
       "    .dataframe tbody tr th:only-of-type {\n",
       "        vertical-align: middle;\n",
       "    }\n",
       "\n",
       "    .dataframe tbody tr th {\n",
       "        vertical-align: top;\n",
       "    }\n",
       "\n",
       "    .dataframe thead th {\n",
       "        text-align: right;\n",
       "    }\n",
       "</style>\n",
       "<table border=\"1\" class=\"dataframe\">\n",
       "  <thead>\n",
       "    <tr style=\"text-align: right;\">\n",
       "      <th></th>\n",
       "      <th>0</th>\n",
       "      <th>1</th>\n",
       "      <th>2</th>\n",
       "    </tr>\n",
       "  </thead>\n",
       "  <tbody>\n",
       "    <tr>\n",
       "      <th>0</th>\n",
       "      <td>chr1</td>\n",
       "      <td>199707794</td>\n",
       "      <td>200016460</td>\n",
       "    </tr>\n",
       "    <tr>\n",
       "      <th>1</th>\n",
       "      <td>chr13</td>\n",
       "      <td>49532445</td>\n",
       "      <td>49790867</td>\n",
       "    </tr>\n",
       "    <tr>\n",
       "      <th>2</th>\n",
       "      <td>chr2</td>\n",
       "      <td>88815370</td>\n",
       "      <td>89061977</td>\n",
       "    </tr>\n",
       "    <tr>\n",
       "      <th>3</th>\n",
       "      <td>chr3</td>\n",
       "      <td>89790775</td>\n",
       "      <td>90031537</td>\n",
       "    </tr>\n",
       "    <tr>\n",
       "      <th>4</th>\n",
       "      <td>chr3</td>\n",
       "      <td>30590735</td>\n",
       "      <td>30816806</td>\n",
       "    </tr>\n",
       "    <tr>\n",
       "      <th>5</th>\n",
       "      <td>chr6</td>\n",
       "      <td>42492776</td>\n",
       "      <td>42713223</td>\n",
       "    </tr>\n",
       "    <tr>\n",
       "      <th>6</th>\n",
       "      <td>chr8</td>\n",
       "      <td>93809504</td>\n",
       "      <td>94011334</td>\n",
       "    </tr>\n",
       "    <tr>\n",
       "      <th>7</th>\n",
       "      <td>chr7</td>\n",
       "      <td>113813986</td>\n",
       "      <td>113963584</td>\n",
       "    </tr>\n",
       "  </tbody>\n",
       "</table>\n",
       "</div>"
      ],
      "text/plain": [
       "       0          1          2\n",
       "0   chr1  199707794  200016460\n",
       "1  chr13   49532445   49790867\n",
       "2   chr2   88815370   89061977\n",
       "3   chr3   89790775   90031537\n",
       "4   chr3   30590735   30816806\n",
       "5   chr6   42492776   42713223\n",
       "6   chr8   93809504   94011334\n",
       "7   chr7  113813986  113963584"
      ]
     },
     "execution_count": 13,
     "metadata": {},
     "output_type": "execute_result"
    }
   ],
   "source": [
    "p.columns\n",
    "p = p['Genomic region']\n",
    "p = p.str.split(\":\", expand=True, n=2)\n",
    "p[1].str.split(\"–\", expand=True, n=2)\n",
    "c = p[1].str.split(\"-\", expand=True, n=2)\n",
    "c = p[1].str.split(\"–\", expand=True, n=2)\n",
    "p[1] = c[0]\n",
    "p[2] = c[1]\n",
    "p[1].replace({',':''},regex=True).apply(pd.to_numeric,1)\n",
    "p[1] = p[1].replace({',':''},regex=True).apply(pd.to_numeric,1)\n",
    "p[2] = p[2].replace({',':''},regex=True).apply(pd.to_numeric,1)\n",
    "p = p.drop([7], axis=0)\n",
    "p.reset_index(inplace=True)\n",
    "p[1].astype(np.int64)\n",
    "p[1] = p[1].astype(np.int64)-1\n",
    "p[2] = p[2].astype(np.int64)\n",
    "p[0] = p[0].astype(str)\n",
    "p[0] = p[0].str.replace(\"Chr\", \"chr\") \n",
    "p.drop(['index'], axis=1, inplace=True)\n",
    "p.to_csv(\"Martin2016_T2.bed\", index=False, header=None, sep='\\t')"
   ]
  },
  {
   "cell_type": "code",
   "execution_count": 19,
   "metadata": {},
   "outputs": [
    {
     "name": "stdout",
     "output_type": "stream",
     "text": [
      "136414\n"
     ]
    }
   ],
   "source": [
    "hf = BedTool('2020_Nahigh_freq.bed')\n",
    "print(len(hf))"
   ]
  },
  {
   "cell_type": "code",
   "execution_count": 20,
   "metadata": {},
   "outputs": [
    {
     "name": "stdout",
     "output_type": "stream",
     "text": [
      "8\n"
     ]
    }
   ],
   "source": [
    "martin = BedTool(\"Martin2016_T2.bed\")\n",
    "print(len(martin))"
   ]
  },
  {
   "cell_type": "code",
   "execution_count": 22,
   "metadata": {},
   "outputs": [
    {
     "data": {
      "text/plain": [
       "<BedTool(HF_inMartin2016.bed)>"
      ]
     },
     "execution_count": 22,
     "metadata": {},
     "output_type": "execute_result"
    }
   ],
   "source": [
    "inters = hf.intersect(martin, f=1, wo=True)\n",
    "inters.saveas(\"HF_inMartin2016.bed\")"
   ]
  }
 ],
 "metadata": {
  "kernelspec": {
   "display_name": "Python 3",
   "language": "python",
   "name": "python3"
  },
  "language_info": {
   "codemirror_mode": {
    "name": "ipython",
    "version": 3
   },
   "file_extension": ".py",
   "mimetype": "text/x-python",
   "name": "python",
   "nbconvert_exporter": "python",
   "pygments_lexer": "ipython3",
   "version": "3.7.7"
  }
 },
 "nbformat": 4,
 "nbformat_minor": 4
}
